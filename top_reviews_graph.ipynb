{
 "cells": [
  {
   "cell_type": "code",
   "execution_count": 1,
   "metadata": {},
   "outputs": [],
   "source": [
    "import pandas as pd\n",
    "import numpy as np\n",
    "# SQL Alchemy\n",
    "from sqlalchemy import create_engine\n",
    "from sql_pwd import sql_pwd\n",
    "#import matplotlib \n",
    "from matplotlib.figure import Figure\n",
    "import matplotlib.pyplot as plt\n",
    "# PyMySQL \n",
    "import pymysql\n",
    "pymysql.install_as_MySQLdb()"
   ]
  },
  {
   "cell_type": "code",
   "execution_count": 2,
   "metadata": {},
   "outputs": [],
   "source": [
    "connection_string = f'root:{sql_pwd}@localhost/wine_db'\n",
    "engine = create_engine(f'mysql://{connection_string}')\n"
   ]
  },
  {
   "cell_type": "code",
   "execution_count": 3,
   "metadata": {},
   "outputs": [],
   "source": [
    "sql = \"select * from top_20_wine order by score desc limit 20\""
   ]
  },
  {
   "cell_type": "code",
   "execution_count": 4,
   "metadata": {
    "scrolled": true
   },
   "outputs": [],
   "source": [
    "# Query All Records in the the Database\n",
    "top_20_wine = pd.read_sql_query(sql, con=engine)"
   ]
  },
  {
   "cell_type": "code",
   "execution_count": 5,
   "metadata": {},
   "outputs": [],
   "source": [
    "# Query Single Record in the the Database\n",
    "top_20_wine_df = pd.DataFrame(top_20_wine, columns=['id', 'wine', 'vintage', 'location','score', 'bottles_in_stock'])"
   ]
  },
  {
   "cell_type": "code",
   "execution_count": 6,
   "metadata": {},
   "outputs": [
    {
     "data": {
      "text/plain": [
       "20"
      ]
     },
     "execution_count": 6,
     "metadata": {},
     "output_type": "execute_result"
    }
   ],
   "source": [
    "len(top_20_wine_df[\"wine\"])"
   ]
  },
  {
   "cell_type": "code",
   "execution_count": 7,
   "metadata": {},
   "outputs": [
    {
     "data": {
      "text/html": [
       "<div>\n",
       "<style scoped>\n",
       "    .dataframe tbody tr th:only-of-type {\n",
       "        vertical-align: middle;\n",
       "    }\n",
       "\n",
       "    .dataframe tbody tr th {\n",
       "        vertical-align: top;\n",
       "    }\n",
       "\n",
       "    .dataframe thead th {\n",
       "        text-align: right;\n",
       "    }\n",
       "</style>\n",
       "<table border=\"1\" class=\"dataframe\">\n",
       "  <thead>\n",
       "    <tr style=\"text-align: right;\">\n",
       "      <th></th>\n",
       "      <th>id</th>\n",
       "      <th>wine</th>\n",
       "      <th>vintage</th>\n",
       "      <th>location</th>\n",
       "      <th>score</th>\n",
       "      <th>bottles_in_stock</th>\n",
       "    </tr>\n",
       "  </thead>\n",
       "  <tbody>\n",
       "    <tr>\n",
       "      <th>0</th>\n",
       "      <td>17</td>\n",
       "      <td>12c Cabernet Sauvignon G3 Reserve Beckstoffer ...</td>\n",
       "      <td>2013</td>\n",
       "      <td>Rutherford</td>\n",
       "      <td>93</td>\n",
       "      <td>20</td>\n",
       "    </tr>\n",
       "    <tr>\n",
       "      <th>1</th>\n",
       "      <td>8</td>\n",
       "      <td>12c Cabernet Sauvignon Beckstoffer Georges III...</td>\n",
       "      <td>2013</td>\n",
       "      <td>Rutherford</td>\n",
       "      <td>91</td>\n",
       "      <td>0</td>\n",
       "    </tr>\n",
       "    <tr>\n",
       "      <th>2</th>\n",
       "      <td>15</td>\n",
       "      <td>12c Cabernet Sauvignon G3 Reserve Beckstoffer ...</td>\n",
       "      <td>2015</td>\n",
       "      <td>Rutherford</td>\n",
       "      <td>91</td>\n",
       "      <td>36</td>\n",
       "    </tr>\n",
       "    <tr>\n",
       "      <th>3</th>\n",
       "      <td>16</td>\n",
       "      <td>12c Cabernet Sauvignon G3 Reserve Beckstoffer ...</td>\n",
       "      <td>2014</td>\n",
       "      <td>Rutherford</td>\n",
       "      <td>91</td>\n",
       "      <td>0</td>\n",
       "    </tr>\n",
       "    <tr>\n",
       "      <th>4</th>\n",
       "      <td>6</td>\n",
       "      <td>12c Cabernet Sauvignon Beckstoffer Georges III...</td>\n",
       "      <td>2015</td>\n",
       "      <td>Rutherford</td>\n",
       "      <td>90</td>\n",
       "      <td>60</td>\n",
       "    </tr>\n",
       "    <tr>\n",
       "      <th>5</th>\n",
       "      <td>9</td>\n",
       "      <td>12c Cabernet Sauvignon Beckstoffer Georges III...</td>\n",
       "      <td>2012</td>\n",
       "      <td>Rutherford</td>\n",
       "      <td>90</td>\n",
       "      <td>0</td>\n",
       "    </tr>\n",
       "    <tr>\n",
       "      <th>6</th>\n",
       "      <td>10</td>\n",
       "      <td>12c Cabernet Sauvignon Beckstoffer Georges III...</td>\n",
       "      <td>2011</td>\n",
       "      <td>Rutherford</td>\n",
       "      <td>90</td>\n",
       "      <td>0</td>\n",
       "    </tr>\n",
       "    <tr>\n",
       "      <th>7</th>\n",
       "      <td>11</td>\n",
       "      <td>12c Cabernet Sauvignon Beckstoffer Georges III...</td>\n",
       "      <td>2010</td>\n",
       "      <td>Rutherford</td>\n",
       "      <td>90</td>\n",
       "      <td>0</td>\n",
       "    </tr>\n",
       "    <tr>\n",
       "      <th>8</th>\n",
       "      <td>12</td>\n",
       "      <td>12c Cabernet Sauvignon Beckstoffer Georges III...</td>\n",
       "      <td>2009</td>\n",
       "      <td>Rutherford</td>\n",
       "      <td>90</td>\n",
       "      <td>0</td>\n",
       "    </tr>\n",
       "    <tr>\n",
       "      <th>9</th>\n",
       "      <td>14</td>\n",
       "      <td>12c Cabernet Sauvignon Beckstoffer Georges III...</td>\n",
       "      <td>2007</td>\n",
       "      <td>Rutherford</td>\n",
       "      <td>90</td>\n",
       "      <td>0</td>\n",
       "    </tr>\n",
       "    <tr>\n",
       "      <th>10</th>\n",
       "      <td>4</td>\n",
       "      <td>1000 Stories Zinfandel Bourbon Barrel Aged</td>\n",
       "      <td>2013</td>\n",
       "      <td>California</td>\n",
       "      <td>89</td>\n",
       "      <td>0</td>\n",
       "    </tr>\n",
       "    <tr>\n",
       "      <th>11</th>\n",
       "      <td>7</td>\n",
       "      <td>12c Cabernet Sauvignon Beckstoffer Georges III...</td>\n",
       "      <td>2014</td>\n",
       "      <td>Rutherford</td>\n",
       "      <td>89</td>\n",
       "      <td>0</td>\n",
       "    </tr>\n",
       "    <tr>\n",
       "      <th>12</th>\n",
       "      <td>13</td>\n",
       "      <td>12c Cabernet Sauvignon Beckstoffer Georges III...</td>\n",
       "      <td>2008</td>\n",
       "      <td>Rutherford</td>\n",
       "      <td>89</td>\n",
       "      <td>0</td>\n",
       "    </tr>\n",
       "    <tr>\n",
       "      <th>13</th>\n",
       "      <td>22</td>\n",
       "      <td>29 Songs Syrah Back Porch Block Suscol Creek V...</td>\n",
       "      <td>2005</td>\n",
       "      <td>Napa Valley</td>\n",
       "      <td>88</td>\n",
       "      <td>0</td>\n",
       "    </tr>\n",
       "    <tr>\n",
       "      <th>14</th>\n",
       "      <td>3</td>\n",
       "      <td>1000 Stories Gold Rush Red Bourbon Barrel Aged</td>\n",
       "      <td>2014</td>\n",
       "      <td>California</td>\n",
       "      <td>87</td>\n",
       "      <td>35</td>\n",
       "    </tr>\n",
       "    <tr>\n",
       "      <th>15</th>\n",
       "      <td>5</td>\n",
       "      <td>1221 Cabernet Sauvignon</td>\n",
       "      <td>2007</td>\n",
       "      <td>Napa / Sonoma</td>\n",
       "      <td>87</td>\n",
       "      <td>50</td>\n",
       "    </tr>\n",
       "    <tr>\n",
       "      <th>16</th>\n",
       "      <td>18</td>\n",
       "      <td>22 Pirates Red Blend</td>\n",
       "      <td>2015</td>\n",
       "      <td>California</td>\n",
       "      <td>87</td>\n",
       "      <td>24</td>\n",
       "    </tr>\n",
       "    <tr>\n",
       "      <th>17</th>\n",
       "      <td>19</td>\n",
       "      <td>29 Songs Syrah Back Porch Block Suscol Creek V...</td>\n",
       "      <td>2009</td>\n",
       "      <td>Napa Valley</td>\n",
       "      <td>87</td>\n",
       "      <td>0</td>\n",
       "    </tr>\n",
       "    <tr>\n",
       "      <th>18</th>\n",
       "      <td>20</td>\n",
       "      <td>29 Songs Syrah Back Porch Block Suscol Creek V...</td>\n",
       "      <td>2008</td>\n",
       "      <td>Napa Valley</td>\n",
       "      <td>87</td>\n",
       "      <td>0</td>\n",
       "    </tr>\n",
       "    <tr>\n",
       "      <th>19</th>\n",
       "      <td>21</td>\n",
       "      <td>29 Songs Syrah Back Porch Block Suscol Creek V...</td>\n",
       "      <td>2006</td>\n",
       "      <td>Napa Valley</td>\n",
       "      <td>87</td>\n",
       "      <td>48</td>\n",
       "    </tr>\n",
       "  </tbody>\n",
       "</table>\n",
       "</div>"
      ],
      "text/plain": [
       "    id                                               wine vintage  \\\n",
       "0   17  12c Cabernet Sauvignon G3 Reserve Beckstoffer ...    2013   \n",
       "1    8  12c Cabernet Sauvignon Beckstoffer Georges III...    2013   \n",
       "2   15  12c Cabernet Sauvignon G3 Reserve Beckstoffer ...    2015   \n",
       "3   16  12c Cabernet Sauvignon G3 Reserve Beckstoffer ...    2014   \n",
       "4    6  12c Cabernet Sauvignon Beckstoffer Georges III...    2015   \n",
       "5    9  12c Cabernet Sauvignon Beckstoffer Georges III...    2012   \n",
       "6   10  12c Cabernet Sauvignon Beckstoffer Georges III...    2011   \n",
       "7   11  12c Cabernet Sauvignon Beckstoffer Georges III...    2010   \n",
       "8   12  12c Cabernet Sauvignon Beckstoffer Georges III...    2009   \n",
       "9   14  12c Cabernet Sauvignon Beckstoffer Georges III...    2007   \n",
       "10   4         1000 Stories Zinfandel Bourbon Barrel Aged    2013   \n",
       "11   7  12c Cabernet Sauvignon Beckstoffer Georges III...    2014   \n",
       "12  13  12c Cabernet Sauvignon Beckstoffer Georges III...    2008   \n",
       "13  22  29 Songs Syrah Back Porch Block Suscol Creek V...    2005   \n",
       "14   3     1000 Stories Gold Rush Red Bourbon Barrel Aged    2014   \n",
       "15   5                            1221 Cabernet Sauvignon    2007   \n",
       "16  18                               22 Pirates Red Blend    2015   \n",
       "17  19  29 Songs Syrah Back Porch Block Suscol Creek V...    2009   \n",
       "18  20  29 Songs Syrah Back Porch Block Suscol Creek V...    2008   \n",
       "19  21  29 Songs Syrah Back Porch Block Suscol Creek V...    2006   \n",
       "\n",
       "         location score  bottles_in_stock  \n",
       "0      Rutherford    93                20  \n",
       "1      Rutherford    91                 0  \n",
       "2      Rutherford    91                36  \n",
       "3      Rutherford    91                 0  \n",
       "4      Rutherford    90                60  \n",
       "5      Rutherford    90                 0  \n",
       "6      Rutherford    90                 0  \n",
       "7      Rutherford    90                 0  \n",
       "8      Rutherford    90                 0  \n",
       "9      Rutherford    90                 0  \n",
       "10     California    89                 0  \n",
       "11     Rutherford    89                 0  \n",
       "12     Rutherford    89                 0  \n",
       "13    Napa Valley    88                 0  \n",
       "14     California    87                35  \n",
       "15  Napa / Sonoma    87                50  \n",
       "16     California    87                24  \n",
       "17    Napa Valley    87                 0  \n",
       "18    Napa Valley    87                 0  \n",
       "19    Napa Valley    87                48  "
      ]
     },
     "execution_count": 7,
     "metadata": {},
     "output_type": "execute_result"
    }
   ],
   "source": [
    "top_20_wine_df "
   ]
  },
  {
   "cell_type": "code",
   "execution_count": 8,
   "metadata": {},
   "outputs": [
    {
     "name": "stdout",
     "output_type": "stream",
     "text": [
      "0     20\n",
      "1      0\n",
      "2     36\n",
      "3      0\n",
      "4     60\n",
      "5      0\n",
      "6      0\n",
      "7      0\n",
      "8      0\n",
      "9      0\n",
      "10     0\n",
      "11     0\n",
      "12     0\n",
      "13     0\n",
      "14    35\n",
      "15    50\n",
      "16    24\n",
      "17     0\n",
      "18     0\n",
      "19    48\n",
      "Name: bottles_in_stock, dtype: int64\n"
     ]
    }
   ],
   "source": [
    "wine_20 = top_20_wine_df[\"wine\"]\n",
    "bottles_20 = top_20_wine_df[\"bottles_in_stock\"]\n",
    "print(bottles_20)"
   ]
  },
  {
   "cell_type": "code",
   "execution_count": 9,
   "metadata": {},
   "outputs": [
    {
     "data": {
      "image/png": "[encoded data removed]",
      "text/plain": [
       "<Figure size 432x288 with 1 Axes>"
      ]
     },
     "metadata": {
      "needs_background": "light"
     },
     "output_type": "display_data"
    }
   ],
   "source": [
    "x_axis = np.arange(len(top_20_wine_df[\"wine\"]))\n",
    "tick_locations = [value+0.3 for value in x_axis]\n",
    "\n",
    "plt.title(\"Top CA Red Wine\")\n",
    "\n",
    "plt.xlabel(\"Wine\")\n",
    "plt.ylabel(\"Bottles in Stock\")\n",
    "#plt.figure(figsize=(20,6))\n",
    "\n",
    "plt.xticks(tick_locations, top_20_wine_df[\"wine\"], rotation=\"vertical\")\n",
    "plt.xlim(-0.25, len(x_axis))\n",
    "plt.ylim(0, max(top_20_wine_df[\"bottles_in_stock\"])+10)\n",
    "plt.grid(True)\n",
    "\n",
    "plt.bar(x_axis, top_20_wine_df[\"bottles_in_stock\"], facecolor=\"red\", alpha=0.75, align=\"center\")\n",
    "\n",
    "\n",
    "plt.savefig('static/TopWineInStock.png')\n",
    "\n",
    "\n",
    "plt.show()\n"
   ]
  },
  {
   "cell_type": "code",
   "execution_count": null,
   "metadata": {},
   "outputs": [],
   "source": []
  },
  {
   "cell_type": "code",
   "execution_count": null,
   "metadata": {},
   "outputs": [],
   "source": []
  },
  {
   "cell_type": "code",
   "execution_count": null,
   "metadata": {},
   "outputs": [],
   "source": []
  }
 ],
 "metadata": {
  "anaconda-cloud": {},
  "kernelspec": {
   "display_name": "Python 3",
   "language": "python",
   "name": "python3"
  },
  "language_info": {
   "codemirror_mode": {
    "name": "ipython",
    "version": 3
   },
   "file_extension": ".py",
   "mimetype": "text/x-python",
   "name": "python",
   "nbconvert_exporter": "python",
   "pygments_lexer": "ipython3",
   "version": "3.6.7"
  },
  "varInspector": {
   "cols": {
    "lenName": 16,
    "lenType": 16,
    "lenVar": 40
   },
   "kernels_config": {
    "python": {
     "delete_cmd_postfix": "",
     "delete_cmd_prefix": "del ",
     "library": "var_list.py",
     "varRefreshCmd": "print(var_dic_list())"
    },
    "r": {
     "delete_cmd_postfix": ") ",
     "delete_cmd_prefix": "rm(",
     "library": "var_list.r",
     "varRefreshCmd": "cat(var_dic_list()) "
    }
   },
   "types_to_exclude": [
    "module",
    "function",
    "builtin_function_or_method",
    "instance",
    "_Feature"
   ],
   "window_display": false
  }
 },
 "nbformat": 4,
 "nbformat_minor": 2
}
