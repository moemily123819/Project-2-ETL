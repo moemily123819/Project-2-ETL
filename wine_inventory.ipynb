{
 "cells": [
  {
   "cell_type": "code",
   "execution_count": null,
   "metadata": {
    "nbgrader": {
     "grade": false,
     "grade_id": "cell-ce43e917c058e1e6",
     "locked": true,
     "schema_version": 1,
     "solution": false
    }
   },
   "outputs": [],
   "source": [
    "from splinter import Browser\n",
    "from bs4 import BeautifulSoup as bs\n",
    "import time\n",
    "import pandas as pd\n",
    "import numpy as np\n",
    "import pymysql\n",
    "from sqlalchemy import create_engine\n",
    "pymysql.install_as_MySQLdb()\n",
    "from sql_pwd import sql_pwd\n"
   ]
  },
  {
   "cell_type": "code",
   "execution_count": null,
   "metadata": {
    "nbgrader": {
     "grade": false,
     "grade_id": "cell-5a901ed15fb6e525",
     "locked": false,
     "schema_version": 1,
     "solution": true
    }
   },
   "outputs": [],
   "source": [
    "#executable_path = {'executable_path': 'chromedriver.exe'}\n",
    "#browser = Browser('chrome', **executable_path, headless=False)\n",
    "connection_string = f'root:{sql_pwd}@localhost/wine_db'\n",
    "engine = create_engine(f'mysql://{connection_string}')\n"
   ]
  },
  {
   "cell_type": "code",
   "execution_count": null,
   "metadata": {
    "nbgrader": {
     "grade": false,
     "grade_id": "cell-3061988562b57cdd",
     "locked": false,
     "schema_version": 1,
     "solution": true
    }
   },
   "outputs": [],
   "source": [
    "# california red winesmars latest news\n",
    "url = \"https://www.cellartracker.com/list.asp?table=List&Country=USA&Region=California&fInStock=0&Type=Red&Page=\"\n",
    "#https://www.cellartracker.com/list.asp?table=List&Country=USA&Region=California&fInStock=0&Type=Red#selected%3DW2179793_1_Kb277d66d3be4ec0b8fb078884f941847\n",
    "#ca_reds_url = 'https://www.cellartracker.com/list.asp?table=List&Country=USA&Region=California&fInStock=0&Type=Red#selected%3DW2179793_1_Kb277d66d3be4ec0b8fb078884f941847'\n",
    "#browser.visit(ca_reds_url)\n",
    "wine_list =[]\n",
    "wine_loc=[]\n",
    "#red=[]\n",
    "#red.append(\"https://www.cellartracker.com/list.asp?table=List&Country=USA&Region=California&fInStock=0&Type=Red#selected%3DW2179793_1_Kb277d66d3be4ec0b8fb078884f941847\")\n",
    "#red.append(\"https://www.cellartracker.com/list.asp?table=List&Country=USA&Region=California&fInStock=0&Type=Red&Page=2#selected%3DW2154860_1_K27828896ef1fa0b7be440d8ce52febd0\")\n",
    "#red.append(\"https://www.cellartracker.com/list.asp?table=List&Country=USA&Region=California&fInStock=0&Type=Red&Page=3#selected%3DW2117926_1_K44a18c8a2a227cddb6a0fae8279edce5\")\n",
    "#red.append(\"https://www.cellartracker.com/list.asp?table=List&Country=USA&Region=California&fInStock=0&Type=Red&Page=4#selected%3DW3032646_1_K61c5ef6d221429ebc068f37750095c9a\")\n",
    "#red.append(\"https://www.cellartracker.com/list.asp?table=List&Country=USA&Region=California&fInStock=0&Type=Red&Page=5#selected%3DW1815669_1_K7703f8541994741a36d5086e0471eb86\")\n",
    "#red.append(\"https://www.cellartracker.com/list.asp?table=List&Country=USA&Region=California&fInStock=0&Type=Red&Page=6#selected%3DW2128095_1_K961f1b8d86dd8f7e54d908b113214ab6\")\n",
    "#red.append(\"https://www.cellartracker.com/list.asp?table=List&Country=USA&Region=California&fInStock=0&Type=Red&Page=7#selected%3DW3076219_1_Kca29153413af245184339d99dc41ea63\")\n",
    "#red.append(\"https://www.cellartracker.com/list.asp?table=List&Country=USA&Region=California&fInStock=0&Type=Red&Page=8#selected%3DW3140568_13_K33dbc89dfab7772456d4ad8e5992f21a\")\n",
    "#red.append(\"https://www.cellartracker.com/list.asp?table=List&Country=USA&Region=California&fInStock=0&Type=Red&Page=9#selected%3DW3175409_1_Kc3ed14f0e042b0ba49ba5670858f85ec\")\n",
    "#red.append(\"https://www.cellartracker.com/list.asp?table=List&Country=USA&Region=California&fInStock=0&Type=Red&Page=10#selected%3DW2394004_1_K9a0e961f62eb690c8c39189a547588a5\")\n",
    "#red.append(\"https://www.cellartracker.com/list.asp?table=List&Country=USA&Region=California&fInStock=0&Type=Red&Page=11#selected%3DW2025173_1_K3a44b7e86b4c87469383539fab77db84\")\n",
    "#red.append(\"https://www.cellartracker.com/list.asp?table=List&Country=USA&Region=California&fInStock=0&Type=Red&Page=12#selected%3DW1506794_1_K102ea6dd4cc407ab30c060657f59a50d\")\n",
    "#red.append(\"https://www.cellartracker.com/list.asp?table=List&Country=USA&Region=California&fInStock=0&Type=Red&Page=13#selected%3DW1891460_1_Kc346c8844f56c6f992dc9681452ef2bc\")\n",
    "#red.append(\"https://www.cellartracker.com/list.asp?table=List&Country=USA&Region=California&fInStock=0&Type=Red&Page=14#selected%3DW3004181_1_Kfa4b782ca1aaececa2e2476ca85b7885\")\n",
    "#red.append(\"https://www.cellartracker.com/list.asp?table=List&Country=USA&Region=California&fInStock=0&Type=Red&Page=15#selected%3DW2038795_1_Ke406584dba509885674b75dfe68d099d\")\n",
    "#red.append(\"https://www.cellartracker.com/list.asp?table=List&Country=USA&Region=California&fInStock=0&Type=Red&Page=16#selected%3DW2633378_1_K3f53e72dc5cbc916d1e3af884dc18d02\")\n",
    "#red.append(\"https://www.cellartracker.com/list.asp?table=List&Country=USA&Region=California&fInStock=0&Type=Red&Page=17#selected%3DW2995034_1_K692589e302a7049725a0d9a1755ebc09\")\n",
    "\n",
    "    \n",
    "#html = browser.html\n",
    "\n",
    "#soup = bs(html, 'html.parser')\n"
   ]
  },
  {
   "cell_type": "code",
   "execution_count": null,
   "metadata": {},
   "outputs": [],
   "source": [
    "#time.sleep(60)\n",
    "#browser.visit(ca_reds_url)\n",
    "#html = browser.html\n",
    "    # Parse HTML with Beautiful Soup\n",
    "#soup = bs(html, 'html.parser')\n",
    "   \n",
    "# Retrieve all wine shown on the page\n",
    "#wine = soup.find_all('td', class_='name')\n",
    "#wine_list =[]\n",
    "#wine_loc=[]\n",
    "\n",
    "#for w in wine:\n",
    "#    wine_list.append(w.find('h3').text)\n",
    "#    w_loc = w.find('span', class_=\"el loc\").text\n",
    "#    w_loc_no_n = w_loc.strip('\\n')\n",
    "#    wine_loc.append(w_loc_no_n)\n",
    "\n"
   ]
  },
  {
   "cell_type": "code",
   "execution_count": null,
   "metadata": {},
   "outputs": [],
   "source": [
    "#next_page = soup.find('a', class_=\"next ir\")\n",
    "#print(next_page)\n",
    "#next_page = soup.find('a', class_=\"next ir\")[\"href\"]\n",
    "#print(next_page)\n"
   ]
  },
  {
   "cell_type": "code",
   "execution_count": null,
   "metadata": {},
   "outputs": [],
   "source": [
    "i=0\n",
    "for x in range(2, 201):\n",
    "#    time.sleep(60)\n",
    "\n",
    "    executable_path = {'executable_path': 'chromedriver.exe'}\n",
    "    browser = Browser('chrome', **executable_path, headless=False)\n",
    "\n",
    "\n",
    "    # HTML object\n",
    "    ca_reds_url=f'{url}{x}'\n",
    "    print(x, ca_reds_url)\n",
    "    browser.visit(ca_reds_url)\n",
    "    html = browser.html\n",
    "    # Parse HTML with Beautiful Soup\n",
    "    soup = bs(html, 'html.parser')\n",
    "    \n",
    "    try:\n",
    "    # Retrieve all wine shown on the page\n",
    "        wine = soup.find_all('td', class_='name')\n",
    "        print(wine)\n",
    "        for w in wine:\n",
    "            w_list=w.find('h3').text \n",
    "            w_loc = w.find('span', class_=\"el loc\").text\n",
    "            print(w_list, w_loc.strip('\\n'))\n",
    "            \n",
    "            if (w_list and w_loc):\n",
    "                wine_list.append(w_list)\n",
    "                wine_loc.append(w_loc.strip('\\n'))\n",
    "\n",
    "                w_col = pd.DataFrame ({\n",
    "                    \"id\":i,\n",
    "                    \"wine\":w_list,\n",
    "                    \"location\":w_loc.strip('\\n'),\n",
    "                    \"score\" : \"\",\n",
    "                    \"GWS_score\":\"\",\n",
    "                    \"nbj\":\"\"\n",
    "                })\n",
    "\n",
    "                print('SQL table',i, w_col)\n",
    "                w_col.to_sql(name='wine_collection', con=engine, if_exists='append', index=False)\n",
    "                \n",
    "                i=i+1\n",
    "                \n",
    "    except AttributeError as e:\n",
    "         print(e)\n",
    "            \n",
    "    #next_page = soup.find('a', class_=\"next ir\")[\"href\"]        \n",
    "    browser.quit()\n",
    "    "
   ]
  },
  {
   "cell_type": "code",
   "execution_count": null,
   "metadata": {},
   "outputs": [],
   "source": [
    "print(len(wine_loc), wine_loc)"
   ]
  },
  {
   "cell_type": "code",
   "execution_count": null,
   "metadata": {},
   "outputs": [],
   "source": [
    "print(len(wine_list), wine_list)"
   ]
  },
  {
   "cell_type": "code",
   "execution_count": null,
   "metadata": {},
   "outputs": [],
   "source": [
    "#print(url+next_page_url)\n",
    "#np_url = url+next_page_url\n",
    "#browser.visit(next_page_url)\n",
    "#html = browser.html\n",
    "#soup = bs(html, 'html.parser')\n"
   ]
  },
  {
   "cell_type": "code",
   "execution_count": null,
   "metadata": {},
   "outputs": [],
   "source": [
    "#print(len(wine_list), len(wine_loc))\n",
    "      "
   ]
  },
  {
   "cell_type": "code",
   "execution_count": null,
   "metadata": {},
   "outputs": [],
   "source": [
    "print(soup.prettify())\n"
   ]
  },
  {
   "cell_type": "code",
   "execution_count": null,
   "metadata": {},
   "outputs": [],
   "source": [
    "wine_collection = pd.DataFrame({\"wine\" : wine_list,\n",
    "                                     \"location\" : wine_loc\n",
    "                               })\n",
    "wine_collection.head()\n"
   ]
  },
  {
   "cell_type": "code",
   "execution_count": null,
   "metadata": {},
   "outputs": [],
   "source": [
    "\n",
    "wine_collection[\"score\"]=' '\n",
    "wine_collection[\"GWS_score\"]=\" \"\n",
    "wine_collection[\"nbj\"]=' '"
   ]
  },
  {
   "cell_type": "code",
   "execution_count": null,
   "metadata": {},
   "outputs": [],
   "source": [
    "wine_collection.head()\n"
   ]
  },
  {
   "cell_type": "code",
   "execution_count": null,
   "metadata": {},
   "outputs": [],
   "source": [
    "wine_collection = wine_collection.assign(rec_id=np.arange(len(wine_collection))).reset_index(drop=True)\n",
    "wine_collection.head()"
   ]
  },
  {
   "cell_type": "code",
   "execution_count": null,
   "metadata": {
    "nbgrader": {
     "grade": false,
     "grade_id": "cell-96fcd4f8590fa08d",
     "locked": false,
     "schema_version": 1,
     "solution": true
    }
   },
   "outputs": [],
   "source": [
    "w_col = wine_collection.rename(columns={\"rec_id\":\"id\"})\n",
    "w_col = w_col[[\"id\", \"wine\", \"location\", \"score\", \"GWS_score\", \"nbj\"]]\n",
    "w_col.head()"
   ]
  },
  {
   "cell_type": "code",
   "execution_count": null,
   "metadata": {
    "nbgrader": {
     "grade": false,
     "grade_id": "cell-b94d91b48824b4bd",
     "locked": false,
     "schema_version": 1,
     "solution": true
    }
   },
   "outputs": [],
   "source": [
    "connection_string = f'root:{sql_pwd}@localhost/wine_db'\n",
    "engine = create_engine(f'mysql://{connection_string}')"
   ]
  },
  {
   "cell_type": "code",
   "execution_count": null,
   "metadata": {
    "scrolled": true
   },
   "outputs": [],
   "source": [
    "# Confirm tables\n",
    "engine.table_names()"
   ]
  },
  {
   "cell_type": "code",
   "execution_count": null,
   "metadata": {
    "nbgrader": {
     "grade": false,
     "grade_id": "cell-691d1378e207458c",
     "locked": false,
     "schema_version": 1,
     "solution": true
    },
    "scrolled": false
   },
   "outputs": [],
   "source": [
    "w_col.to_sql(name='wine_collection', con=engine, if_exists='replace', index=False)"
   ]
  },
  {
   "cell_type": "code",
   "execution_count": null,
   "metadata": {},
   "outputs": [],
   "source": [
    "wine_collection\n"
   ]
  },
  {
   "cell_type": "code",
   "execution_count": null,
   "metadata": {},
   "outputs": [],
   "source": [
    "\n",
    " "
   ]
  },
  {
   "cell_type": "code",
   "execution_count": null,
   "metadata": {},
   "outputs": [],
   "source": []
  }
 ],
 "metadata": {
  "celltoolbar": "Create Assignment",
  "kernelspec": {
   "display_name": "Python 3",
   "language": "python",
   "name": "python3"
  },
  "language_info": {
   "codemirror_mode": {
    "name": "ipython",
    "version": 3
   },
   "file_extension": ".py",
   "mimetype": "text/x-python",
   "name": "python",
   "nbconvert_exporter": "python",
   "pygments_lexer": "ipython3",
   "version": "3.6.7"
  },
  "varInspector": {
   "cols": {
    "lenName": 16,
    "lenType": 16,
    "lenVar": 40
   },
   "kernels_config": {
    "python": {
     "delete_cmd_postfix": "",
     "delete_cmd_prefix": "del ",
     "library": "var_list.py",
     "varRefreshCmd": "print(var_dic_list())"
    },
    "r": {
     "delete_cmd_postfix": ") ",
     "delete_cmd_prefix": "rm(",
     "library": "var_list.r",
     "varRefreshCmd": "cat(var_dic_list()) "
    }
   },
   "types_to_exclude": [
    "module",
    "function",
    "builtin_function_or_method",
    "instance",
    "_Feature"
   ],
   "window_display": false
  }
 },
 "nbformat": 4,
 "nbformat_minor": 2
}
