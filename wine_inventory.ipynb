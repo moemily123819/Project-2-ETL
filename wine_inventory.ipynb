{
 "cells": [
  {
   "cell_type": "code",
   "execution_count": 1,
   "metadata": {
    "nbgrader": {
     "grade": false,
     "grade_id": "cell-ce43e917c058e1e6",
     "locked": true,
     "schema_version": 1,
     "solution": false
    }
   },
   "outputs": [],
   "source": [
    "from splinter import Browser\n",
    "from bs4 import BeautifulSoup as bs\n",
    "import time\n",
    "import pandas as pd\n",
    "import numpy as np\n",
    "import pymysql\n",
    "from sqlalchemy import create_engine\n",
    "pymysql.install_as_MySQLdb()\n",
    "from sql_pwd import sql_pwd\n"
   ]
  },
  {
   "cell_type": "code",
   "execution_count": 2,
   "metadata": {
    "nbgrader": {
     "grade": false,
     "grade_id": "cell-5a901ed15fb6e525",
     "locked": false,
     "schema_version": 1,
     "solution": true
    }
   },
   "outputs": [],
   "source": [
    "#executable_path = {'executable_path': 'chromedriver.exe'}\n",
    "#browser = Browser('chrome', **executable_path, headless=False)\n",
    "\n"
   ]
  },
  {
   "cell_type": "code",
   "execution_count": 3,
   "metadata": {
    "nbgrader": {
     "grade": false,
     "grade_id": "cell-3061988562b57cdd",
     "locked": false,
     "schema_version": 1,
     "solution": true
    }
   },
   "outputs": [],
   "source": [
    "# california red winesmars latest news\n",
    "url = \"https://www.cellartracker.com/list.asp?table=List&Country=USA&Region=California&fInStock=0&Type=Red&Page=\"\n",
    "#https://www.cellartracker.com/list.asp?table=List&Country=USA&Region=California&fInStock=0&Type=Red#selected%3DW2179793_1_Kb277d66d3be4ec0b8fb078884f941847\n",
    "#ca_reds_url = 'https://www.cellartracker.com/list.asp?table=List&Country=USA&Region=California&fInStock=0&Type=Red#selected%3DW2179793_1_Kb277d66d3be4ec0b8fb078884f941847'\n",
    "#browser.visit(ca_reds_url)\n",
    "wine_list =[]\n",
    "wine_loc=[]\n",
    "#red=[]\n",
    "#red.append(\"https://www.cellartracker.com/list.asp?table=List&Country=USA&Region=California&fInStock=0&Type=Red#selected%3DW2179793_1_Kb277d66d3be4ec0b8fb078884f941847\")\n",
    "#red.append(\"https://www.cellartracker.com/list.asp?table=List&Country=USA&Region=California&fInStock=0&Type=Red&Page=2#selected%3DW2154860_1_K27828896ef1fa0b7be440d8ce52febd0\")\n",
    "#red.append(\"https://www.cellartracker.com/list.asp?table=List&Country=USA&Region=California&fInStock=0&Type=Red&Page=3#selected%3DW2117926_1_K44a18c8a2a227cddb6a0fae8279edce5\")\n",
    "#red.append(\"https://www.cellartracker.com/list.asp?table=List&Country=USA&Region=California&fInStock=0&Type=Red&Page=4#selected%3DW3032646_1_K61c5ef6d221429ebc068f37750095c9a\")\n",
    "#red.append(\"https://www.cellartracker.com/list.asp?table=List&Country=USA&Region=California&fInStock=0&Type=Red&Page=5#selected%3DW1815669_1_K7703f8541994741a36d5086e0471eb86\")\n",
    "#red.append(\"https://www.cellartracker.com/list.asp?table=List&Country=USA&Region=California&fInStock=0&Type=Red&Page=6#selected%3DW2128095_1_K961f1b8d86dd8f7e54d908b113214ab6\")\n",
    "#red.append(\"https://www.cellartracker.com/list.asp?table=List&Country=USA&Region=California&fInStock=0&Type=Red&Page=7#selected%3DW3076219_1_Kca29153413af245184339d99dc41ea63\")\n",
    "#red.append(\"https://www.cellartracker.com/list.asp?table=List&Country=USA&Region=California&fInStock=0&Type=Red&Page=8#selected%3DW3140568_13_K33dbc89dfab7772456d4ad8e5992f21a\")\n",
    "#red.append(\"https://www.cellartracker.com/list.asp?table=List&Country=USA&Region=California&fInStock=0&Type=Red&Page=9#selected%3DW3175409_1_Kc3ed14f0e042b0ba49ba5670858f85ec\")\n",
    "#red.append(\"https://www.cellartracker.com/list.asp?table=List&Country=USA&Region=California&fInStock=0&Type=Red&Page=10#selected%3DW2394004_1_K9a0e961f62eb690c8c39189a547588a5\")\n",
    "#red.append(\"https://www.cellartracker.com/list.asp?table=List&Country=USA&Region=California&fInStock=0&Type=Red&Page=11#selected%3DW2025173_1_K3a44b7e86b4c87469383539fab77db84\")\n",
    "#red.append(\"https://www.cellartracker.com/list.asp?table=List&Country=USA&Region=California&fInStock=0&Type=Red&Page=12#selected%3DW1506794_1_K102ea6dd4cc407ab30c060657f59a50d\")\n",
    "#red.append(\"https://www.cellartracker.com/list.asp?table=List&Country=USA&Region=California&fInStock=0&Type=Red&Page=13#selected%3DW1891460_1_Kc346c8844f56c6f992dc9681452ef2bc\")\n",
    "#red.append(\"https://www.cellartracker.com/list.asp?table=List&Country=USA&Region=California&fInStock=0&Type=Red&Page=14#selected%3DW3004181_1_Kfa4b782ca1aaececa2e2476ca85b7885\")\n",
    "#red.append(\"https://www.cellartracker.com/list.asp?table=List&Country=USA&Region=California&fInStock=0&Type=Red&Page=15#selected%3DW2038795_1_Ke406584dba509885674b75dfe68d099d\")\n",
    "#red.append(\"https://www.cellartracker.com/list.asp?table=List&Country=USA&Region=California&fInStock=0&Type=Red&Page=16#selected%3DW2633378_1_K3f53e72dc5cbc916d1e3af884dc18d02\")\n",
    "#red.append(\"https://www.cellartracker.com/list.asp?table=List&Country=USA&Region=California&fInStock=0&Type=Red&Page=17#selected%3DW2995034_1_K692589e302a7049725a0d9a1755ebc09\")\n",
    "\n",
    "    \n",
    "#html = browser.html\n",
    "\n",
    "#soup = bs(html, 'html.parser')\n"
   ]
  },
  {
   "cell_type": "code",
   "execution_count": 4,
   "metadata": {},
   "outputs": [],
   "source": [
    "#time.sleep(60)\n",
    "#browser.visit(ca_reds_url)\n",
    "#html = browser.html\n",
    "    # Parse HTML with Beautiful Soup\n",
    "#soup = bs(html, 'html.parser')\n",
    "   \n",
    "# Retrieve all wine shown on the page\n",
    "#wine = soup.find_all('td', class_='name')\n",
    "#wine_list =[]\n",
    "#wine_loc=[]\n",
    "\n",
    "#for w in wine:\n",
    "#    wine_list.append(w.find('h3').text)\n",
    "#    w_loc = w.find('span', class_=\"el loc\").text\n",
    "#    w_loc_no_n = w_loc.strip('\\n')\n",
    "#    wine_loc.append(w_loc_no_n)\n",
    "\n"
   ]
  },
  {
   "cell_type": "code",
   "execution_count": 5,
   "metadata": {},
   "outputs": [],
   "source": [
    "#next_page = soup.find('a', class_=\"next ir\")\n",
    "#print(next_page)\n",
    "#next_page = soup.find('a', class_=\"next ir\")[\"href\"]\n",
    "#print(next_page)\n"
   ]
  },
  {
   "cell_type": "code",
   "execution_count": 8,
   "metadata": {},
   "outputs": [
    {
     "name": "stdout",
     "output_type": "stream",
     "text": [
      "2 url2\n"
     ]
    },
    {
     "ename": "WebDriverException",
     "evalue": "Message: unknown error: unhandled inspector error: {\"code\":-32000,\"message\":\"Cannot navigate to invalid URL\"}\n  (Session info: chrome=73.0.3683.103)\n  (Driver info: chromedriver=2.34.522940 (1a76f96f66e3ca7b8e57d503b4dd3bccfba87af1),platform=Windows NT 10.0.17763 x86_64)\n",
     "output_type": "error",
     "traceback": [
      "\u001b[1;31m---------------------------------------------------------------------------\u001b[0m",
      "\u001b[1;31mWebDriverException\u001b[0m                        Traceback (most recent call last)",
      "\u001b[1;32m<ipython-input-8-24d0d47cd907>\u001b[0m in \u001b[0;36m<module>\u001b[1;34m\u001b[0m\n\u001b[0;32m      8\u001b[0m     \u001b[0mca_reds_url\u001b[0m\u001b[1;33m=\u001b[0m\u001b[1;34mf'url{x}'\u001b[0m\u001b[1;33m\u001b[0m\u001b[1;33m\u001b[0m\u001b[0m\n\u001b[0;32m      9\u001b[0m     \u001b[0mprint\u001b[0m\u001b[1;33m(\u001b[0m\u001b[0mx\u001b[0m\u001b[1;33m,\u001b[0m \u001b[0mca_reds_url\u001b[0m\u001b[1;33m)\u001b[0m\u001b[1;33m\u001b[0m\u001b[1;33m\u001b[0m\u001b[0m\n\u001b[1;32m---> 10\u001b[1;33m     \u001b[0mbrowser\u001b[0m\u001b[1;33m.\u001b[0m\u001b[0mvisit\u001b[0m\u001b[1;33m(\u001b[0m\u001b[0mca_reds_url\u001b[0m\u001b[1;33m)\u001b[0m\u001b[1;33m\u001b[0m\u001b[1;33m\u001b[0m\u001b[0m\n\u001b[0m\u001b[0;32m     11\u001b[0m     \u001b[0mhtml\u001b[0m \u001b[1;33m=\u001b[0m \u001b[0mbrowser\u001b[0m\u001b[1;33m.\u001b[0m\u001b[0mhtml\u001b[0m\u001b[1;33m\u001b[0m\u001b[1;33m\u001b[0m\u001b[0m\n\u001b[0;32m     12\u001b[0m     \u001b[1;31m# Parse HTML with Beautiful Soup\u001b[0m\u001b[1;33m\u001b[0m\u001b[1;33m\u001b[0m\u001b[1;33m\u001b[0m\u001b[0m\n",
      "\u001b[1;32m~\\Anaconda3\\envs\\Pythondata\\lib\\site-packages\\splinter\\driver\\webdriver\\__init__.py\u001b[0m in \u001b[0;36mvisit\u001b[1;34m(self, url)\u001b[0m\n\u001b[0;32m    194\u001b[0m \u001b[1;33m\u001b[0m\u001b[0m\n\u001b[0;32m    195\u001b[0m     \u001b[1;32mdef\u001b[0m \u001b[0mvisit\u001b[0m\u001b[1;33m(\u001b[0m\u001b[0mself\u001b[0m\u001b[1;33m,\u001b[0m \u001b[0murl\u001b[0m\u001b[1;33m)\u001b[0m\u001b[1;33m:\u001b[0m\u001b[1;33m\u001b[0m\u001b[1;33m\u001b[0m\u001b[0m\n\u001b[1;32m--> 196\u001b[1;33m         \u001b[0mself\u001b[0m\u001b[1;33m.\u001b[0m\u001b[0mdriver\u001b[0m\u001b[1;33m.\u001b[0m\u001b[0mget\u001b[0m\u001b[1;33m(\u001b[0m\u001b[0murl\u001b[0m\u001b[1;33m)\u001b[0m\u001b[1;33m\u001b[0m\u001b[1;33m\u001b[0m\u001b[0m\n\u001b[0m\u001b[0;32m    197\u001b[0m \u001b[1;33m\u001b[0m\u001b[0m\n\u001b[0;32m    198\u001b[0m     \u001b[1;32mdef\u001b[0m \u001b[0mback\u001b[0m\u001b[1;33m(\u001b[0m\u001b[0mself\u001b[0m\u001b[1;33m)\u001b[0m\u001b[1;33m:\u001b[0m\u001b[1;33m\u001b[0m\u001b[1;33m\u001b[0m\u001b[0m\n",
      "\u001b[1;32m~\\Anaconda3\\envs\\Pythondata\\lib\\site-packages\\selenium\\webdriver\\remote\\webdriver.py\u001b[0m in \u001b[0;36mget\u001b[1;34m(self, url)\u001b[0m\n\u001b[0;32m    331\u001b[0m         \u001b[0mLoads\u001b[0m \u001b[0ma\u001b[0m \u001b[0mweb\u001b[0m \u001b[0mpage\u001b[0m \u001b[1;32min\u001b[0m \u001b[0mthe\u001b[0m \u001b[0mcurrent\u001b[0m \u001b[0mbrowser\u001b[0m \u001b[0msession\u001b[0m\u001b[1;33m.\u001b[0m\u001b[1;33m\u001b[0m\u001b[1;33m\u001b[0m\u001b[0m\n\u001b[0;32m    332\u001b[0m         \"\"\"\n\u001b[1;32m--> 333\u001b[1;33m         \u001b[0mself\u001b[0m\u001b[1;33m.\u001b[0m\u001b[0mexecute\u001b[0m\u001b[1;33m(\u001b[0m\u001b[0mCommand\u001b[0m\u001b[1;33m.\u001b[0m\u001b[0mGET\u001b[0m\u001b[1;33m,\u001b[0m \u001b[1;33m{\u001b[0m\u001b[1;34m'url'\u001b[0m\u001b[1;33m:\u001b[0m \u001b[0murl\u001b[0m\u001b[1;33m}\u001b[0m\u001b[1;33m)\u001b[0m\u001b[1;33m\u001b[0m\u001b[1;33m\u001b[0m\u001b[0m\n\u001b[0m\u001b[0;32m    334\u001b[0m \u001b[1;33m\u001b[0m\u001b[0m\n\u001b[0;32m    335\u001b[0m     \u001b[1;33m@\u001b[0m\u001b[0mproperty\u001b[0m\u001b[1;33m\u001b[0m\u001b[1;33m\u001b[0m\u001b[0m\n",
      "\u001b[1;32m~\\Anaconda3\\envs\\Pythondata\\lib\\site-packages\\selenium\\webdriver\\remote\\webdriver.py\u001b[0m in \u001b[0;36mexecute\u001b[1;34m(self, driver_command, params)\u001b[0m\n\u001b[0;32m    319\u001b[0m         \u001b[0mresponse\u001b[0m \u001b[1;33m=\u001b[0m \u001b[0mself\u001b[0m\u001b[1;33m.\u001b[0m\u001b[0mcommand_executor\u001b[0m\u001b[1;33m.\u001b[0m\u001b[0mexecute\u001b[0m\u001b[1;33m(\u001b[0m\u001b[0mdriver_command\u001b[0m\u001b[1;33m,\u001b[0m \u001b[0mparams\u001b[0m\u001b[1;33m)\u001b[0m\u001b[1;33m\u001b[0m\u001b[1;33m\u001b[0m\u001b[0m\n\u001b[0;32m    320\u001b[0m         \u001b[1;32mif\u001b[0m \u001b[0mresponse\u001b[0m\u001b[1;33m:\u001b[0m\u001b[1;33m\u001b[0m\u001b[1;33m\u001b[0m\u001b[0m\n\u001b[1;32m--> 321\u001b[1;33m             \u001b[0mself\u001b[0m\u001b[1;33m.\u001b[0m\u001b[0merror_handler\u001b[0m\u001b[1;33m.\u001b[0m\u001b[0mcheck_response\u001b[0m\u001b[1;33m(\u001b[0m\u001b[0mresponse\u001b[0m\u001b[1;33m)\u001b[0m\u001b[1;33m\u001b[0m\u001b[1;33m\u001b[0m\u001b[0m\n\u001b[0m\u001b[0;32m    322\u001b[0m             response['value'] = self._unwrap_value(\n\u001b[0;32m    323\u001b[0m                 response.get('value', None))\n",
      "\u001b[1;32m~\\Anaconda3\\envs\\Pythondata\\lib\\site-packages\\selenium\\webdriver\\remote\\errorhandler.py\u001b[0m in \u001b[0;36mcheck_response\u001b[1;34m(self, response)\u001b[0m\n\u001b[0;32m    240\u001b[0m                 \u001b[0malert_text\u001b[0m \u001b[1;33m=\u001b[0m \u001b[0mvalue\u001b[0m\u001b[1;33m[\u001b[0m\u001b[1;34m'alert'\u001b[0m\u001b[1;33m]\u001b[0m\u001b[1;33m.\u001b[0m\u001b[0mget\u001b[0m\u001b[1;33m(\u001b[0m\u001b[1;34m'text'\u001b[0m\u001b[1;33m)\u001b[0m\u001b[1;33m\u001b[0m\u001b[1;33m\u001b[0m\u001b[0m\n\u001b[0;32m    241\u001b[0m             \u001b[1;32mraise\u001b[0m \u001b[0mexception_class\u001b[0m\u001b[1;33m(\u001b[0m\u001b[0mmessage\u001b[0m\u001b[1;33m,\u001b[0m \u001b[0mscreen\u001b[0m\u001b[1;33m,\u001b[0m \u001b[0mstacktrace\u001b[0m\u001b[1;33m,\u001b[0m \u001b[0malert_text\u001b[0m\u001b[1;33m)\u001b[0m\u001b[1;33m\u001b[0m\u001b[1;33m\u001b[0m\u001b[0m\n\u001b[1;32m--> 242\u001b[1;33m         \u001b[1;32mraise\u001b[0m \u001b[0mexception_class\u001b[0m\u001b[1;33m(\u001b[0m\u001b[0mmessage\u001b[0m\u001b[1;33m,\u001b[0m \u001b[0mscreen\u001b[0m\u001b[1;33m,\u001b[0m \u001b[0mstacktrace\u001b[0m\u001b[1;33m)\u001b[0m\u001b[1;33m\u001b[0m\u001b[1;33m\u001b[0m\u001b[0m\n\u001b[0m\u001b[0;32m    243\u001b[0m \u001b[1;33m\u001b[0m\u001b[0m\n\u001b[0;32m    244\u001b[0m     \u001b[1;32mdef\u001b[0m \u001b[0m_value_or_default\u001b[0m\u001b[1;33m(\u001b[0m\u001b[0mself\u001b[0m\u001b[1;33m,\u001b[0m \u001b[0mobj\u001b[0m\u001b[1;33m,\u001b[0m \u001b[0mkey\u001b[0m\u001b[1;33m,\u001b[0m \u001b[0mdefault\u001b[0m\u001b[1;33m)\u001b[0m\u001b[1;33m:\u001b[0m\u001b[1;33m\u001b[0m\u001b[1;33m\u001b[0m\u001b[0m\n",
      "\u001b[1;31mWebDriverException\u001b[0m: Message: unknown error: unhandled inspector error: {\"code\":-32000,\"message\":\"Cannot navigate to invalid URL\"}\n  (Session info: chrome=73.0.3683.103)\n  (Driver info: chromedriver=2.34.522940 (1a76f96f66e3ca7b8e57d503b4dd3bccfba87af1),platform=Windows NT 10.0.17763 x86_64)\n"
     ]
    }
   ],
   "source": [
    "for x in (2, 51):\n",
    "    time.sleep(60)\n",
    "    executable_path = {'executable_path': 'chromedriver.exe'}\n",
    "    browser = Browser('chrome', **executable_path, headless=False)\n",
    "\n",
    "\n",
    "    # HTML object\n",
    "    ca_reds_url=f'url{x}'\n",
    "    print(x, ca_reds_url)\n",
    "    browser.visit(ca_reds_url)\n",
    "    html = browser.html\n",
    "    # Parse HTML with Beautiful Soup\n",
    "    soup = bs(html, 'html.parser')\n",
    "    \n",
    "    try:\n",
    "    # Retrieve all wine shown on the page\n",
    "        wine = soup.find_all('td', class_='name')\n",
    "\n",
    "        for w in wine:\n",
    "            w_list=w.find('h3').text \n",
    "            w_loc = w.find('span', class_=\"el loc\").text\n",
    "        \n",
    "            if (w_list and w_loc):\n",
    "                wine_list.append(w_list)\n",
    "                wine_loc.append(w_loc.strip('\\n'))\n",
    " \n",
    "    except AttributeError as e:\n",
    "         print(e)\n",
    "            \n",
    "    #next_page = soup.find('a', class_=\"next ir\")[\"href\"]        \n",
    "    browser.quit()\n",
    "    "
   ]
  },
  {
   "cell_type": "code",
   "execution_count": null,
   "metadata": {},
   "outputs": [],
   "source": [
    "print(ca_reds_url)"
   ]
  },
  {
   "cell_type": "code",
   "execution_count": null,
   "metadata": {},
   "outputs": [],
   "source": [
    "print(len(wine_loc), wine_loc)"
   ]
  },
  {
   "cell_type": "code",
   "execution_count": null,
   "metadata": {},
   "outputs": [],
   "source": [
    "print(len(wine_list), wine_list)"
   ]
  },
  {
   "cell_type": "code",
   "execution_count": null,
   "metadata": {},
   "outputs": [],
   "source": [
    "#print(url+next_page_url)\n",
    "#np_url = url+next_page_url\n",
    "#browser.visit(next_page_url)\n",
    "#html = browser.html\n",
    "#soup = bs(html, 'html.parser')\n"
   ]
  },
  {
   "cell_type": "code",
   "execution_count": null,
   "metadata": {},
   "outputs": [],
   "source": [
    "#print(len(wine_list), len(wine_loc))\n",
    "      "
   ]
  },
  {
   "cell_type": "code",
   "execution_count": null,
   "metadata": {},
   "outputs": [],
   "source": [
    "#print(soup.prettify())\n"
   ]
  },
  {
   "cell_type": "code",
   "execution_count": null,
   "metadata": {},
   "outputs": [],
   "source": [
    "wine_collection = pd.DataFrame({\"wine\" : wine_list,\n",
    "                                     \"location\" : wine_loc\n",
    "                               })\n",
    "wine_collection.head()\n"
   ]
  },
  {
   "cell_type": "code",
   "execution_count": null,
   "metadata": {},
   "outputs": [],
   "source": [
    "\n",
    "wine_collection[\"score\"]=' '"
   ]
  },
  {
   "cell_type": "code",
   "execution_count": null,
   "metadata": {},
   "outputs": [],
   "source": [
    "wine_collection = wine_collection.assign(rec_id=np.arange(len(wine_collection))).reset_index(drop=True)\n",
    "wine_collection.head()"
   ]
  },
  {
   "cell_type": "code",
   "execution_count": null,
   "metadata": {
    "nbgrader": {
     "grade": false,
     "grade_id": "cell-96fcd4f8590fa08d",
     "locked": false,
     "schema_version": 1,
     "solution": true
    }
   },
   "outputs": [],
   "source": [
    "w_col = wine_collection.rename(columns={\"rec_id\":\"id\"})\n",
    "w_col = w_col[[\"id\", \"wine\", \"location\", \"score\"]]\n",
    "w_col.head()"
   ]
  },
  {
   "cell_type": "code",
   "execution_count": null,
   "metadata": {
    "nbgrader": {
     "grade": false,
     "grade_id": "cell-b94d91b48824b4bd",
     "locked": false,
     "schema_version": 1,
     "solution": true
    }
   },
   "outputs": [],
   "source": [
    "connection_string = f'root:{sql_pwd}@localhost/wine_db'\n",
    "engine = create_engine(f'mysql://{connection_string}')"
   ]
  },
  {
   "cell_type": "code",
   "execution_count": null,
   "metadata": {
    "scrolled": true
   },
   "outputs": [],
   "source": [
    "# Confirm tables\n",
    "engine.table_names()"
   ]
  },
  {
   "cell_type": "code",
   "execution_count": null,
   "metadata": {
    "nbgrader": {
     "grade": false,
     "grade_id": "cell-691d1378e207458c",
     "locked": false,
     "schema_version": 1,
     "solution": true
    },
    "scrolled": false
   },
   "outputs": [],
   "source": [
    "w_col.to_sql(name='wine_collection', con=engine, if_exists='append', index=False)"
   ]
  },
  {
   "cell_type": "code",
   "execution_count": null,
   "metadata": {},
   "outputs": [],
   "source": []
  },
  {
   "cell_type": "code",
   "execution_count": null,
   "metadata": {},
   "outputs": [],
   "source": [
    "\n",
    " "
   ]
  },
  {
   "cell_type": "code",
   "execution_count": null,
   "metadata": {},
   "outputs": [],
   "source": []
  }
 ],
 "metadata": {
  "celltoolbar": "Create Assignment",
  "kernelspec": {
   "display_name": "Python 3",
   "language": "python",
   "name": "python3"
  },
  "language_info": {
   "codemirror_mode": {
    "name": "ipython",
    "version": 3
   },
   "file_extension": ".py",
   "mimetype": "text/x-python",
   "name": "python",
   "nbconvert_exporter": "python",
   "pygments_lexer": "ipython3",
   "version": "3.6.7"
  },
  "varInspector": {
   "cols": {
    "lenName": 16,
    "lenType": 16,
    "lenVar": 40
   },
   "kernels_config": {
    "python": {
     "delete_cmd_postfix": "",
     "delete_cmd_prefix": "del ",
     "library": "var_list.py",
     "varRefreshCmd": "print(var_dic_list())"
    },
    "r": {
     "delete_cmd_postfix": ") ",
     "delete_cmd_prefix": "rm(",
     "library": "var_list.r",
     "varRefreshCmd": "cat(var_dic_list()) "
    }
   },
   "types_to_exclude": [
    "module",
    "function",
    "builtin_function_or_method",
    "instance",
    "_Feature"
   ],
   "window_display": false
  }
 },
 "nbformat": 4,
 "nbformat_minor": 2
}
